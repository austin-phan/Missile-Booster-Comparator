{
  "nbformat": 4,
  "nbformat_minor": 0,
  "metadata": {
    "colab": {
      "provenance": [],
      "authorship_tag": "ABX9TyO2XxAHxoChIGb/5uGhoVqm",
      "include_colab_link": true
    },
    "kernelspec": {
      "name": "python3",
      "display_name": "Python 3"
    },
    "language_info": {
      "name": "python"
    }
  },
  "cells": [
    {
      "cell_type": "markdown",
      "metadata": {
        "id": "view-in-github",
        "colab_type": "text"
      },
      "source": [
        "<a href=\"https://colab.research.google.com/github/uravt/MissileBoosterCode/blob/master/Math10s.ipynb\" target=\"_parent\"><img src=\"https://colab.research.google.com/assets/colab-badge.svg\" alt=\"Open In Colab\"/></a>"
      ]
    },
    {
      "cell_type": "code",
      "source": [
        "import numpy as np\n",
        "from scipy.optimize import least_squares\n",
        "\n",
        "# Constants\n",
        "density_pipe = 1960  # kg/m^3\n",
        "density_base = 2600  # kg/m^3\n",
        "d_inner = 0.5        # m\n",
        "d_outer = 0.75       # m\n",
        "L_total = 6          # total length constraint\n",
        "target_Mr1 = np.exp(1/52)  # from 10-second burn setup\n",
        "M_b = (np.pi / 4) * d_outer**2 * 0.5 * density_base\n",
        "\n",
        "# Define system of equations\n",
        "def system(vars, L1_fixed):\n",
        "    L2, L3 = vars\n",
        "    Mp1 = np.pi * (d_inner**2) / 4 * L1_fixed * density_pipe\n",
        "    Mp2 = np.pi * (d_inner**2) / 4 * L2 * density_pipe\n",
        "    Mp3 = np.pi * (d_inner**2) / 4 * L3 * density_pipe\n",
        "    Mw1 = (np.pi / 4) * (d_outer**2 - d_inner**2) * L1_fixed * density_pipe\n",
        "    Mw2 = (np.pi / 4) * (d_outer**2 - d_inner**2) * L2 * density_pipe\n",
        "    Mw3 = (np.pi / 4) * (d_outer**2 - d_inner**2) * L3 * density_pipe\n",
        "    epsilon = (M_b + Mw1) / (Mp1 + M_b + Mw1)\n",
        "    lambda_ = (250 + Mp2 + Mp3 + 2*M_b + Mw2 + Mw3) / (Mp1 + M_b + Mw1)\n",
        "    Mr1 = (1 + lambda_) / (epsilon + lambda_)\n",
        "    eq1 = L1_fixed + L2 + L3 - L_total\n",
        "    eq2 = Mr1 - target_Mr1\n",
        "    return [eq1, eq2]\n",
        "\n",
        "# --- Main program ---\n",
        "while True:\n",
        "    # Manually input L1\n",
        "    L1_input = float(input(\"\\nEnter L1 (in meters): \"))\n",
        "\n",
        "    # Smart initial guess: L1 = L2 = L3 initially\n",
        "    initial_guess_value = L_total / 3  # 6/3 = 2 meters\n",
        "    initial_guess = [initial_guess_value, initial_guess_value]\n",
        "\n",
        "    # Solve using least squares\n",
        "    result = least_squares(system, initial_guess, args=(L1_input,))\n",
        "    L2_solution, L3_solution = result.x\n",
        "\n",
        "    # Output\n",
        "    print(\"\\nSolution:\")\n",
        "    print(f\"L1 = {L1_input:.4f} m\")\n",
        "    print(f\"L2 = {L2_solution:.4f} m\")\n",
        "    print(f\"L3 = {L3_solution:.4f} m\")\n",
        "\n",
        "    # Check if solution is physical\n",
        "    if L2_solution < 0 or L3_solution < 0:\n",
        "        print(\"\\n⚠️ Warning: Solution has negative length(s). Please enter a new L1.\")\n",
        "    else:\n",
        "        print(\"\\n✅ Solution is physical and acceptable.\")\n",
        "        break  # Exit loop if solution is good\n",
        "\n",
        "\n"
      ],
      "metadata": {
        "colab": {
          "base_uri": "https://localhost:8080/"
        },
        "id": "9EfBcr1_tWXH",
        "outputId": "6f4c0cfb-8f37-4f14-a443-0b16b49902b5"
      },
      "execution_count": 8,
      "outputs": [
        {
          "output_type": "stream",
          "name": "stdout",
          "text": [
            "\n",
            "Enter L1 (in meters): 3\n",
            "\n",
            "Solution:\n",
            "L1 = 3.0000 m\n",
            "L2 = 3.5654 m\n",
            "L3 = -0.5607 m\n",
            "\n",
            "⚠️ Warning: Solution has negative length(s). Please enter a new L1.\n",
            "\n",
            "Enter L1 (in meters): 2\n",
            "\n",
            "Solution:\n",
            "L1 = 2.0000 m\n",
            "L2 = 2.0019 m\n",
            "L3 = 1.9998 m\n",
            "\n",
            "✅ Solution is physical and acceptable.\n"
          ]
        }
      ]
    }
  ]
}